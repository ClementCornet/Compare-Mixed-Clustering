{
 "cells": [
  {
   "attachments": {},
   "cell_type": "markdown",
   "metadata": {},
   "source": [
    "### IMPORTS"
   ]
  },
  {
   "cell_type": "code",
   "execution_count": 1,
   "metadata": {},
   "outputs": [
    {
     "name": "stderr",
     "output_type": "stream",
     "text": [
      "c:\\Users\\cleme\\AppData\\Local\\Programs\\Python\\Python310\\lib\\site-packages\\tqdm\\auto.py:22: TqdmWarning: IProgress not found. Please update jupyter and ipywidgets. See https://ipywidgets.readthedocs.io/en/stable/user_install.html\n",
      "  from .autonotebook import tqdm as notebook_tqdm\n"
     ]
    }
   ],
   "source": [
    "import pandas as pd\n",
    "from sklearn.cluster import KMeans\n",
    "import umap.umap_ as umap\n",
    "import prince\n",
    "import pacmap\n",
    "import numpy as np\n",
    "from scipy.spatial.distance import cdist\n",
    "from sklearn.preprocessing import StandardScaler\n",
    "from sklearn.metrics import calinski_harabasz_score, davies_bouldin_score\n",
    "import pacmap\n",
    "from sklearn.manifold import MDS"
   ]
  },
  {
   "attachments": {},
   "cell_type": "markdown",
   "metadata": {},
   "source": [
    "### LOAD DATA"
   ]
  },
  {
   "cell_type": "code",
   "execution_count": 2,
   "metadata": {},
   "outputs": [],
   "source": [
    "df = pd.read_csv(\"penguins.csv\").dropna()"
   ]
  },
  {
   "attachments": {},
   "cell_type": "markdown",
   "metadata": {},
   "source": [
    "### EMBEDDINGS"
   ]
  },
  {
   "attachments": {},
   "cell_type": "markdown",
   "metadata": {},
   "source": [
    "#### UMAP"
   ]
  },
  {
   "cell_type": "code",
   "execution_count": 3,
   "metadata": {},
   "outputs": [
    {
     "name": "stderr",
     "output_type": "stream",
     "text": [
      "c:\\Users\\cleme\\AppData\\Local\\Programs\\Python\\Python310\\lib\\site-packages\\umap\\umap_.py:1780: UserWarning: using precomputed metric; inverse_transform will be unavailable\n",
      "  warn(\"using precomputed metric; inverse_transform will be unavailable\")\n"
     ]
    }
   ],
   "source": [
    "numerical = df.select_dtypes('number')\n",
    "categorical = df.select_dtypes('object')\n",
    "scaler = StandardScaler()\n",
    "numerical = scaler.fit_transform(numerical)\n",
    "categorical = categorical.apply(lambda x: x.replace(x.unique(),list(range(1,1+len(x.unique())))))\n",
    "gamma = np.mean(np.std(numerical))/2\n",
    "distances = (cdist(numerical,numerical,'sqeuclidean')) + cdist(categorical,categorical,'hamming')*gamma\n",
    "umap_embedding = umap.UMAP(n_components=len(df.columns),metric=\"precomputed\").fit_transform(distances)"
   ]
  },
  {
   "attachments": {},
   "cell_type": "markdown",
   "metadata": {},
   "source": [
    "#### FAMD"
   ]
  },
  {
   "cell_type": "code",
   "execution_count": 4,
   "metadata": {},
   "outputs": [],
   "source": [
    "famd = prince.FAMD(len(df.columns))\n",
    "famd_embeddings = famd.fit_transform(df)"
   ]
  },
  {
   "attachments": {},
   "cell_type": "markdown",
   "metadata": {},
   "source": [
    "#### Split PaCMAP"
   ]
  },
  {
   "cell_type": "code",
   "execution_count": 5,
   "metadata": {},
   "outputs": [
    {
     "name": "stderr",
     "output_type": "stream",
     "text": [
      "c:\\Users\\cleme\\AppData\\Local\\Programs\\Python\\Python310\\lib\\site-packages\\pacmap\\pacmap.py:835: UserWarning: apply_pca = True for Hamming distance. This option will be ignored.\n",
      "  warnings.warn(\n"
     ]
    }
   ],
   "source": [
    "#numerical = df2.select_dtypes(exclude='object')\n",
    "#for c in numerical.columns:\n",
    "#    numerical[c] = (numerical[c] - numerical[c].mean())/numerical[c].std(ddof=0)\n",
    "#categorical = df2.select_dtypes(include='object')\n",
    "#categorical = pd.get_dummies(categorical)\n",
    "n_components = np.min([np.min(categorical.shape), np.min(numerical.shape)])\n",
    "fit1 = pacmap.PaCMAP(n_components=n_components).fit_transform(numerical)\n",
    "fit2 = pacmap.PaCMAP(distance='hamming',n_components=n_components).fit_transform(categorical)\n",
    "pacmap_embeddings = np.square(fit1)+fit2*gamma"
   ]
  },
  {
   "attachments": {},
   "cell_type": "markdown",
   "metadata": {},
   "source": [
    "#### MDS + PaCMAP because no doc and sklearn API not really respected and it wont work squalala"
   ]
  },
  {
   "cell_type": "code",
   "execution_count": 6,
   "metadata": {},
   "outputs": [],
   "source": [
    "model = MDS(n_components=len(df.columns)*5,dissimilarity='precomputed', max_iter=2000)\n",
    "mds_emb = model.fit(distances).embedding_\n",
    "mds_pacmap_embeddings=pacmap.PaCMAP(n_components=np.min(mds_emb.shape), apply_pca=True).fit_transform(mds_emb)"
   ]
  },
  {
   "cell_type": "code",
   "execution_count": 7,
   "metadata": {},
   "outputs": [
    {
     "data": {
      "text/plain": [
       "(333, 40)"
      ]
     },
     "execution_count": 7,
     "metadata": {},
     "output_type": "execute_result"
    }
   ],
   "source": [
    "mds_emb.shape"
   ]
  },
  {
   "cell_type": "code",
   "execution_count": 8,
   "metadata": {},
   "outputs": [
    {
     "name": "stderr",
     "output_type": "stream",
     "text": [
      "C:\\Users\\cleme\\AppData\\Local\\Temp\\ipykernel_22988\\2209206624.py:1: RuntimeWarning: invalid value encountered in divide\n",
      "  np.nanmean(distances/cdist(mds_emb, mds_emb))\n"
     ]
    },
    {
     "data": {
      "text/plain": [
       "0.8701546900083946"
      ]
     },
     "execution_count": 8,
     "metadata": {},
     "output_type": "execute_result"
    }
   ],
   "source": [
    "np.nanmean(distances/cdist(mds_emb, mds_emb))"
   ]
  },
  {
   "attachments": {},
   "cell_type": "markdown",
   "metadata": {},
   "source": [
    "### EVALUATE"
   ]
  },
  {
   "cell_type": "code",
   "execution_count": 9,
   "metadata": {},
   "outputs": [],
   "source": [
    "results = pd.DataFrame()\n",
    "umap_results = []\n",
    "famd_results = []\n",
    "pacmap_results = []\n",
    "mds_pacmap_results = []\n",
    "for k in range(2,20):\n",
    "    model = KMeans(n_clusters=k)\n",
    "    clusters = model.fit_predict(umap_embedding)\n",
    "    umap_results.append(davies_bouldin_score(umap_embedding, clusters))\n",
    "    famd_results.append(davies_bouldin_score(famd_embeddings, clusters))\n",
    "    pacmap_results.append(davies_bouldin_score(pacmap_embeddings, clusters))\n",
    "    mds_pacmap_results.append(davies_bouldin_score(mds_pacmap_embeddings, clusters))\n",
    "results['UMAP'] = umap_results\n",
    "results['FAMD'] = famd_results\n",
    "results['PaCMAP'] = pacmap_results\n",
    "results['MDS-PaCMAP'] = mds_pacmap_results\n",
    "results.index += 2"
   ]
  },
  {
   "cell_type": "code",
   "execution_count": 10,
   "metadata": {},
   "outputs": [
    {
     "data": {
      "text/html": [
       "<div>\n",
       "<style scoped>\n",
       "    .dataframe tbody tr th:only-of-type {\n",
       "        vertical-align: middle;\n",
       "    }\n",
       "\n",
       "    .dataframe tbody tr th {\n",
       "        vertical-align: top;\n",
       "    }\n",
       "\n",
       "    .dataframe thead th {\n",
       "        text-align: right;\n",
       "    }\n",
       "</style>\n",
       "<table border=\"1\" class=\"dataframe\">\n",
       "  <thead>\n",
       "    <tr style=\"text-align: right;\">\n",
       "      <th></th>\n",
       "      <th>UMAP</th>\n",
       "      <th>FAMD</th>\n",
       "      <th>PaCMAP</th>\n",
       "      <th>MDS-PaCMAP</th>\n",
       "    </tr>\n",
       "  </thead>\n",
       "  <tbody>\n",
       "    <tr>\n",
       "      <th>2</th>\n",
       "      <td>0.735493</td>\n",
       "      <td>1.098335</td>\n",
       "      <td>1.041330</td>\n",
       "      <td>0.783903</td>\n",
       "    </tr>\n",
       "    <tr>\n",
       "      <th>3</th>\n",
       "      <td>0.494766</td>\n",
       "      <td>2.354644</td>\n",
       "      <td>1.079409</td>\n",
       "      <td>0.862166</td>\n",
       "    </tr>\n",
       "    <tr>\n",
       "      <th>4</th>\n",
       "      <td>0.374937</td>\n",
       "      <td>2.427648</td>\n",
       "      <td>1.229626</td>\n",
       "      <td>0.945545</td>\n",
       "    </tr>\n",
       "    <tr>\n",
       "      <th>5</th>\n",
       "      <td>0.320527</td>\n",
       "      <td>3.400868</td>\n",
       "      <td>1.125659</td>\n",
       "      <td>0.673016</td>\n",
       "    </tr>\n",
       "    <tr>\n",
       "      <th>6</th>\n",
       "      <td>0.275511</td>\n",
       "      <td>3.499838</td>\n",
       "      <td>0.883550</td>\n",
       "      <td>0.626709</td>\n",
       "    </tr>\n",
       "    <tr>\n",
       "      <th>7</th>\n",
       "      <td>0.311870</td>\n",
       "      <td>2.984812</td>\n",
       "      <td>0.855754</td>\n",
       "      <td>0.692650</td>\n",
       "    </tr>\n",
       "    <tr>\n",
       "      <th>8</th>\n",
       "      <td>0.380386</td>\n",
       "      <td>2.605937</td>\n",
       "      <td>0.955154</td>\n",
       "      <td>0.736035</td>\n",
       "    </tr>\n",
       "    <tr>\n",
       "      <th>9</th>\n",
       "      <td>0.437402</td>\n",
       "      <td>3.011953</td>\n",
       "      <td>0.956710</td>\n",
       "      <td>0.761374</td>\n",
       "    </tr>\n",
       "    <tr>\n",
       "      <th>10</th>\n",
       "      <td>0.467809</td>\n",
       "      <td>2.499797</td>\n",
       "      <td>0.924886</td>\n",
       "      <td>0.754637</td>\n",
       "    </tr>\n",
       "    <tr>\n",
       "      <th>11</th>\n",
       "      <td>0.453026</td>\n",
       "      <td>2.055848</td>\n",
       "      <td>0.937083</td>\n",
       "      <td>0.820523</td>\n",
       "    </tr>\n",
       "    <tr>\n",
       "      <th>12</th>\n",
       "      <td>0.471033</td>\n",
       "      <td>2.365353</td>\n",
       "      <td>0.887429</td>\n",
       "      <td>0.876123</td>\n",
       "    </tr>\n",
       "    <tr>\n",
       "      <th>13</th>\n",
       "      <td>0.484574</td>\n",
       "      <td>2.191295</td>\n",
       "      <td>0.835195</td>\n",
       "      <td>0.862126</td>\n",
       "    </tr>\n",
       "    <tr>\n",
       "      <th>14</th>\n",
       "      <td>0.482426</td>\n",
       "      <td>2.030088</td>\n",
       "      <td>0.685163</td>\n",
       "      <td>0.831637</td>\n",
       "    </tr>\n",
       "    <tr>\n",
       "      <th>15</th>\n",
       "      <td>0.449613</td>\n",
       "      <td>1.913196</td>\n",
       "      <td>0.645887</td>\n",
       "      <td>0.810875</td>\n",
       "    </tr>\n",
       "    <tr>\n",
       "      <th>16</th>\n",
       "      <td>0.471823</td>\n",
       "      <td>1.977397</td>\n",
       "      <td>0.566849</td>\n",
       "      <td>0.873257</td>\n",
       "    </tr>\n",
       "    <tr>\n",
       "      <th>17</th>\n",
       "      <td>0.483337</td>\n",
       "      <td>1.819933</td>\n",
       "      <td>0.587103</td>\n",
       "      <td>0.924551</td>\n",
       "    </tr>\n",
       "    <tr>\n",
       "      <th>18</th>\n",
       "      <td>0.488251</td>\n",
       "      <td>1.851173</td>\n",
       "      <td>0.627433</td>\n",
       "      <td>1.091907</td>\n",
       "    </tr>\n",
       "    <tr>\n",
       "      <th>19</th>\n",
       "      <td>0.489977</td>\n",
       "      <td>1.841506</td>\n",
       "      <td>0.639682</td>\n",
       "      <td>1.055633</td>\n",
       "    </tr>\n",
       "  </tbody>\n",
       "</table>\n",
       "</div>"
      ],
      "text/plain": [
       "        UMAP      FAMD    PaCMAP  MDS-PaCMAP\n",
       "2   0.735493  1.098335  1.041330    0.783903\n",
       "3   0.494766  2.354644  1.079409    0.862166\n",
       "4   0.374937  2.427648  1.229626    0.945545\n",
       "5   0.320527  3.400868  1.125659    0.673016\n",
       "6   0.275511  3.499838  0.883550    0.626709\n",
       "7   0.311870  2.984812  0.855754    0.692650\n",
       "8   0.380386  2.605937  0.955154    0.736035\n",
       "9   0.437402  3.011953  0.956710    0.761374\n",
       "10  0.467809  2.499797  0.924886    0.754637\n",
       "11  0.453026  2.055848  0.937083    0.820523\n",
       "12  0.471033  2.365353  0.887429    0.876123\n",
       "13  0.484574  2.191295  0.835195    0.862126\n",
       "14  0.482426  2.030088  0.685163    0.831637\n",
       "15  0.449613  1.913196  0.645887    0.810875\n",
       "16  0.471823  1.977397  0.566849    0.873257\n",
       "17  0.483337  1.819933  0.587103    0.924551\n",
       "18  0.488251  1.851173  0.627433    1.091907\n",
       "19  0.489977  1.841506  0.639682    1.055633"
      ]
     },
     "execution_count": 10,
     "metadata": {},
     "output_type": "execute_result"
    }
   ],
   "source": [
    "results"
   ]
  },
  {
   "cell_type": "code",
   "execution_count": 11,
   "metadata": {},
   "outputs": [],
   "source": [
    "import markov_clustering as mc\n",
    "import networkx as nx\n",
    "import random\n",
    "\n",
    "adj = np.exp(-(distances ** 2))\n",
    "#\n",
    "#component_embedding = SpectralEmbedding(\n",
    "#    n_components=ldn(df.columns), affinity=\"precomputed\", random_state=random_state\n",
    "#).fit_transform(affinity_matrix)\n",
    "#component_embedding /= component_embedding.max()\n",
    "result = mc.run_mcl(adj)           # run MCL with default parameters\n",
    "clusters = mc.get_clusters(result)"
   ]
  },
  {
   "cell_type": "code",
   "execution_count": 12,
   "metadata": {},
   "outputs": [
    {
     "data": {
      "text/plain": [
       "24"
      ]
     },
     "execution_count": 12,
     "metadata": {},
     "output_type": "execute_result"
    }
   ],
   "source": [
    "len(clusters)"
   ]
  },
  {
   "cell_type": "code",
   "execution_count": 13,
   "metadata": {},
   "outputs": [
    {
     "data": {
      "image/png": "[encoded data removed]",
      "text/plain": [
       "<Figure size 432x288 with 1 Axes>"
      ]
     },
     "metadata": {},
     "output_type": "display_data"
    }
   ],
   "source": [
    "mc.draw_graph(adj, clusters, node_size=50, with_labels=True, edge_color=\"silver\")"
   ]
  },
  {
   "cell_type": "code",
   "execution_count": 14,
   "metadata": {},
   "outputs": [
    {
     "data": {
      "text/plain": [
       "333"
      ]
     },
     "execution_count": 14,
     "metadata": {},
     "output_type": "execute_result"
    }
   ],
   "source": [
    "sum(len(i) for i in clusters)"
   ]
  },
  {
   "cell_type": "code",
   "execution_count": 15,
   "metadata": {},
   "outputs": [
    {
     "name": "stderr",
     "output_type": "stream",
     "text": [
      "c:\\Users\\cleme\\AppData\\Local\\Programs\\Python\\Python310\\lib\\site-packages\\umap\\umap_.py:1780: UserWarning: using precomputed metric; inverse_transform will be unavailable\n",
      "  warn(\"using precomputed metric; inverse_transform will be unavailable\")\n"
     ]
    },
    {
     "data": {
      "text/plain": [
       "<333x333 sparse matrix of type '<class 'numpy.float32'>'\n",
       "\twith 5724 stored elements in Compressed Sparse Row format>"
      ]
     },
     "execution_count": 15,
     "metadata": {},
     "output_type": "execute_result"
    }
   ],
   "source": [
    "heu = umap.UMAP(n_components=len(df.columns),metric=\"precomputed\")\n",
    "heu.fit(distances)\n",
    "heu.graph_"
   ]
  },
  {
   "cell_type": "code",
   "execution_count": 16,
   "metadata": {},
   "outputs": [
    {
     "data": {
      "text/plain": [
       "<333x333 sparse matrix of type '<class 'numpy.float32'>'\n",
       "\twith 5724 stored elements in Compressed Sparse Row format>"
      ]
     },
     "execution_count": 16,
     "metadata": {},
     "output_type": "execute_result"
    }
   ],
   "source": [
    "heu.graph_"
   ]
  },
  {
   "cell_type": "code",
   "execution_count": 17,
   "metadata": {},
   "outputs": [
    {
     "data": {
      "text/plain": [
       "array([[1.00000000e+000, 5.77767267e-001, 5.02809125e-002, ...,\n",
       "        2.38080672e-052, 4.29750688e-105, 3.76063841e-065],\n",
       "       [5.77767267e-001, 1.00000000e+000, 3.70743815e-001, ...,\n",
       "        8.86668400e-048, 3.02383912e-093, 2.44309524e-057],\n",
       "       [5.02809125e-002, 3.70743815e-001, 1.00000000e+000, ...,\n",
       "        1.54104470e-043, 8.25535927e-072, 1.02908721e-046],\n",
       "       ...,\n",
       "       [2.38080672e-052, 8.86668400e-048, 1.54104470e-043, ...,\n",
       "        1.00000000e+000, 3.22899865e-002, 8.71378929e-001],\n",
       "       [4.29750688e-105, 3.02383912e-093, 8.25535927e-072, ...,\n",
       "        3.22899865e-002, 1.00000000e+000, 2.97759587e-001],\n",
       "       [3.76063841e-065, 2.44309524e-057, 1.02908721e-046, ...,\n",
       "        8.71378929e-001, 2.97759587e-001, 1.00000000e+000]])"
      ]
     },
     "execution_count": 17,
     "metadata": {},
     "output_type": "execute_result"
    }
   ],
   "source": [
    "adj"
   ]
  },
  {
   "cell_type": "code",
   "execution_count": 19,
   "metadata": {},
   "outputs": [
    {
     "name": "stdout",
     "output_type": "stream",
     "text": [
      "inf\n"
     ]
    },
    {
     "name": "stderr",
     "output_type": "stream",
     "text": [
      "C:\\Users\\cleme\\AppData\\Local\\Temp\\ipykernel_22988\\3956440947.py:2: RuntimeWarning: divide by zero encountered in divide\n",
      "  print(np.nanmean(adj/zz.A))\n",
      "C:\\Users\\cleme\\AppData\\Local\\Temp\\ipykernel_22988\\3956440947.py:2: RuntimeWarning: invalid value encountered in divide\n",
      "  print(np.nanmean(adj/zz.A))\n"
     ]
    }
   ],
   "source": [
    "zz = heu.graph_\n",
    "print(np.nanmean(adj/zz.A))\n",
    "adj = zz.A\n",
    "\n",
    "result = mc.run_mcl(adj)           # run MCL with default parameters\n",
    "clusters = mc.get_clusters(result)"
   ]
  },
  {
   "cell_type": "code",
   "execution_count": 20,
   "metadata": {},
   "outputs": [
    {
     "data": {
      "text/plain": [
       "29"
      ]
     },
     "execution_count": 20,
     "metadata": {},
     "output_type": "execute_result"
    }
   ],
   "source": [
    "len(clusters)"
   ]
  },
  {
   "cell_type": "code",
   "execution_count": 21,
   "metadata": {},
   "outputs": [
    {
     "data": {
      "image/png": "[encoded data removed]",
      "text/plain": [
       "<Figure size 432x288 with 1 Axes>"
      ]
     },
     "metadata": {},
     "output_type": "display_data"
    }
   ],
   "source": [
    "mc.draw_graph(adj, clusters, node_size=50, with_labels=True, edge_color=\"silver\")"
   ]
  }
 ],
 "metadata": {
  "kernelspec": {
   "display_name": "Python 3",
   "language": "python",
   "name": "python3"
  },
  "language_info": {
   "codemirror_mode": {
    "name": "ipython",
    "version": 3
   },
   "file_extension": ".py",
   "mimetype": "text/x-python",
   "name": "python",
   "nbconvert_exporter": "python",
   "pygments_lexer": "ipython3",
   "version": "3.10.0 (tags/v3.10.0:b494f59, Oct  4 2021, 19:00:18) [MSC v.1929 64 bit (AMD64)]"
  },
  "orig_nbformat": 4,
  "vscode": {
   "interpreter": {
    "hash": "c13fa53d9ca57d7eb06b3bded45cae9d1d4fccba06703c1e05380e65eacdcc4c"
   }
  }
 },
 "nbformat": 4,
 "nbformat_minor": 2
}
